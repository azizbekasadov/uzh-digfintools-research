{
 "cells": [
  {
   "cell_type": "markdown",
   "metadata": {},
   "source": [
    "% Created by: Azizbek Asadov %\n",
    "% Date: 02.10.2024"
   ]
  },
  {
   "cell_type": "markdown",
   "metadata": {},
   "source": [
    "Equity data - D&J 60 from 2019-11-01 to 2020-11-01 (source: finance yahoo)"
   ]
  },
  {
   "cell_type": "code",
   "execution_count": null,
   "metadata": {},
   "outputs": [],
   "source": [
    "import yfinance as yf\n",
    "import pandas as pd\n",
    "\n",
    "tickers = [\n",
    "    'MMM', 'AXP', 'AMGN', 'AAPL', 'BA', 'CAT', 'CVX', 'CSCO', 'KO', \n",
    "    'DIS', 'DOW', 'GS', 'HD', 'HON', 'IBM', 'INTC', 'JNJ', 'JPM', \n",
    "    'MCD', 'MRK', 'MSFT', 'NKE', 'PG', 'TRV', 'UNH', 'VZ', 'V', \n",
    "    'WBA', 'WMT', 'RTX', 'TSLA', 'META', 'GOOGL', 'GOOG', 'NFLX', 'AMZN', 'BMY', 'PEP', \n",
    "    'ORCL', 'QCOM', 'TXN', 'ADP', 'COST', 'GE', 'MO', 'ABT', 'T', \n",
    "    'SBUX', 'LLY', 'BRK-B', 'PFE', 'XOM', 'MDT', 'TGT', 'SPGI', \n",
    "    'BK', 'C', 'SLB', 'DHR', 'DUK'\n",
    "]\n",
    "start_date = '2019-11-01'\n",
    "end_date = '2020-11-01'\n",
    "\n",
    "data = yf.download(tickers, start=start_date, end=end_date, interval='1d')['Close'])\n",
    "data.to_csv('DJ60_securities.csv')\n"
   ]
  },
  {
   "cell_type": "markdown",
   "metadata": {},
   "source": [
    "Risk-free data - T-bill 10Y yield for the same time period (source: finance yahoo)"
   ]
  },
  {
   "cell_type": "code",
   "execution_count": null,
   "metadata": {},
   "outputs": [],
   "source": [
    "import yfinance as yf\n",
    "import pandas as pd\n",
    "\n",
    "ticker = \"^TNX\"\n",
    "\n",
    "y10_data = yf.download(ticker, start=start_date, end=end_date, interval='1d')['Close']",
    "y10_data.head()\n",
    "\n",
    "y10_data.to_csv('10Y_Treasury_Yield.csv')\n",
    "rf_rate = y10_data['Close']/100",
    "descriptive_stats = rf_rate.describe()\n",
    "descriptive_stats.head()"
   ]
  },
  {
   "cell_type": "code",
   "execution_count": null,
   "metadata": {},
   "outputs": [],
   "source": [
    "import matplotlib.pyplot as plt\n",
    "\n",
    "plt.figure(figsize=(10,6))\n",
    "plt.plot(y10_data['Close'], label='10Y Treasury Yield')\n",
    "plt.title('10-Year Treasury Yield (2019-11-01 to 2020-11-01)')\n",
    "plt.xlabel('Date')\n",
    "plt.ylabel('Yield')\n",
    "plt.legend()\n",
    "plt.grid(True)\n",
    "plt.show()"
   ]
  },
  {
   "cell_type": "code",
   "execution_count": null,
   "metadata": {},
   "outputs": [],
   "source": [
    "# Compute daily returns\n",
    "daily_returns = data.pct_change().dropna()[:20]\n",
    "\n",
    "# Compute log returns\n",
    "log_returns = np.log(data / data.shift(1))",
    "\n",
    "# Compound returns\n",
    "compound_returns = (1 + daily_returns).prod() - 1\n",
    "\n",
    "# Descriptive statistics (First 4 moments)\n",
    "mean_returns = log_returns.mean()\n",
    "variance = log_returns.var()\n",
    "skewness = log_returns.skew()\n",
    "kurtosis = log_returns.kurtosis()\n",
    "\n",
    "# Combine the descriptive statistics into a DataFrame\n",
    "descriptive_stats = pd.DataFrame({\n",
    "    'Mean': mean_returns,\n",
    "    'Variance': variance,\n",
    "    'Skewness': skewness,\n",
    "    'Kurtosis': kurtosis\n",
    "})\n",
    "\n",
    "# Calculate the correlation matrix\n",
    "correlation_matrix = log_returns.corr()\n",
    "\n",
    "# Display the compound returns and descriptive statistics\n",
    "print(\"Compound Returns:\\n\", compound_returns)\n",
    "print(\"\\nDescriptive Statistics (First 4 moments):\\n\", descriptive_stats)\n",
    "\n",
    "selected_tickers = ['AAPL', 'MSFT', 'AMZN', 'GOOGL', 'TSLA']\n",
    "# Plot the correlation matrix as a heatmap\n",
    "for ticker in selected_tickers:\n",
    "    plt.plot(data.index, data[ticker], label=ticker)\n",
    "\n",
    "plt.figure(figsize=(12, 8))\n",
    "plt.title('Correlation Matrix')\n",
    "sns.heatmap(correlation_matrix, annot=True, cmap='coolwarm', linewidths=0.5)\n",
    "plt.show()"
   ]
  }
 ],
 "metadata": {
  "language_info": {
   "name": "python"
  }
 },
 "nbformat": 4,
 "nbformat_minor": 2
}
