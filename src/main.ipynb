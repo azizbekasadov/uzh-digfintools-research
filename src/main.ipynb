{
 "cells": [
  {
   "cell_type": "markdown",
   "metadata": {},
   "source": [
    "% Created by: Azizbek Asadov %\n",
    "% Date: 02.10.2024"
   ]
  },
  {
   "cell_type": "markdown",
   "metadata": {},
   "source": [
    "Equity data - D&J 60 from 2019-11-01 to 2020-11-01 (source: finance yahoo)"
   ]
  },
  {
   "cell_type": "code",
   "execution_count": null,
   "metadata": {},
   "outputs": [],
   "source": [
    "import yfinance as yf\n",
    "import pandas as pd\n",
    "\n",
    "tickers = [\n",
    "    'MMM', 'AXP', 'AMGN', 'AAPL', 'BA', 'CAT', 'CVX', 'CSCO', 'KO', \n",
    "    'DIS', 'DOW', 'GS', 'HD', 'HON', 'IBM', 'INTC', 'JNJ', 'JPM', \n",
    "    'MCD', 'MRK', 'MSFT', 'NKE', 'PG', 'TRV', 'UNH', 'VZ', 'V', \n",
    "    'WBA', 'WMT', 'RTX', 'TSLA', 'META', 'GOOGL', 'GOOG', 'NFLX', 'AMZN', 'BMY', 'PEP', \n",
    "    'ORCL', 'QCOM', 'TXN', 'ADP', 'COST', 'GE', 'MO', 'ABT', 'T', \n",
    "    'SBUX', 'LLY', 'BRK-B', 'PFE', 'XOM', 'MDT', 'TGT', 'SPGI', \n",
    "    'BK', 'C', 'SLB', 'DHR', 'DUK'\n",
    "]\n",
    "start_date = '2019-11-01'\n",
    "end_date = '2020-11-01'\n",
    "\n",
    "data = yf.download(tickers, start=start_date, end=end_date)\n",
    "data.to_csv('DJ60_securities.csv')\n"
   ]
  },
  {
   "cell_type": "markdown",
   "metadata": {},
   "source": [
    "Risk-free data - T-bill 10Y yield for the same time period (source: finance yahoo)"
   ]
  },
  {
   "cell_type": "code",
   "execution_count": null,
   "metadata": {},
   "outputs": [],
   "source": [
    "import yfinance as yf\n",
    "import pandas as pd\n",
    "\n",
    "ticker = \"^TNX\"\n",
    "\n",
    "y10_data = yf.download(ticker, start=start_date, end=end_date)\n",
    "y10_data.head()\n",
    "\n",
    "y10_data.to_csv('10Y_Treasury_Yield.csv')\n",
    "compound_returns = (y10_data['Adj Close'].pct_change() + 1).cumprod() - 1\n",
    "descriptive_stats = compound_returns.describe()\n",
    "descriptive_stats.head()"
   ]
  },
  {
   "cell_type": "code",
   "execution_count": null,
   "metadata": {},
   "outputs": [],
   "source": [
    "import matplotlib.pyplot as plt\n",
    "\n",
    "plt.figure(figsize=(10,6))\n",
    "plt.plot(y10_data['Close'], label='10Y Treasury Yield')\n",
    "plt.title('10-Year Treasury Yield (2019-11-01 to 2020-11-01)')\n",
    "plt.xlabel('Date')\n",
    "plt.ylabel('Yield')\n",
    "plt.legend()\n",
    "plt.grid(True)\n",
    "plt.show()"
   ]
  },
  {
   "cell_type": "code",
   "execution_count": null,
   "metadata": {},
   "outputs": [],
   "source": [
    "# Compute daily returns\n",
    "daily_returns = data.pct_change().dropna()[:20]\n",
    "\n",
    "# Compound returns\n",
    "compound_returns = (1 + daily_returns).prod() - 1\n",
    "\n",
    "# Descriptive statistics (First 4 moments)\n",
    "mean_returns = daily_returns.mean()\n",
    "variance = daily_returns.var()\n",
    "skewness = daily_returns.skew()\n",
    "kurtosis = daily_returns.kurtosis()\n",
    "\n",
    "# Combine the descriptive statistics into a DataFrame\n",
    "descriptive_stats = pd.DataFrame({\n",
    "    'Mean': mean_returns,\n",
    "    'Variance': variance,\n",
    "    'Skewness': skewness,\n",
    "    'Kurtosis': kurtosis\n",
    "})\n",
    "\n",
    "# Calculate the correlation matrix\n",
    "correlation_matrix = daily_returns.corr()\n",
    "\n",
    "# Display the compound returns and descriptive statistics\n",
    "print(\"Compound Returns:\\n\", compound_returns)\n",
    "print(\"\\nDescriptive Statistics (First 4 moments):\\n\", descriptive_stats)\n",
    "\n",
    "selected_tickers = ['AAPL', 'MSFT', 'AMZN', 'GOOGL', 'TSLA']\n",
    "# Plot the correlation matrix as a heatmap\n",
    "for ticker in selected_tickers:\n",
    "    plt.plot(data.index, data[ticker], label=ticker)\n",
    "\n",
    "plt.figure(figsize=(12, 8))\n",
    "plt.title('Correlation Matrix')\n",
    "sns.heatmap(correlation_matrix, annot=True, cmap='coolwarm', linewidths=0.5)\n",
    "plt.show()"
   ]
  }
 ],
 "metadata": {
  "language_info": {
   "name": "python"
  }
 },
 "nbformat": 4,
 "nbformat_minor": 2
}
